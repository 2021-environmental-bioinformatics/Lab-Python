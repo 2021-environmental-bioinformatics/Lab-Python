{
 "cells": [
  {
   "cell_type": "markdown",
   "metadata": {},
   "source": [
    "# Testing out loops and dictionary assignment"
   ]
  },
  {
   "cell_type": "markdown",
   "metadata": {},
   "source": [
    "## Option 1\n",
    "\n",
    "Placment of `fastdict` assignment in the for loop but not within the for loop but not in if or else statement. "
   ]
  },
  {
   "cell_type": "code",
   "execution_count": 88,
   "metadata": {},
   "outputs": [],
   "source": [
    "def option1(filename):\n",
    "    fastadict = {}\n",
    "    with open(filename, 'r') as f:\n",
    "        for line in f:\n",
    "            if line.startswith('>'):\n",
    "                seqdict={}\n",
    "                header=line.strip()\n",
    "                name = header.split(' ')[0].replace('>', '')\n",
    "                seqdict['name'] = name\n",
    "                seqdict['header'] = header\n",
    "                sequence=''\n",
    "            else:\n",
    "                sequence += line.strip()\n",
    "                seqdict['sequence'] = sequence\n",
    "            fastadict[name]=seqdict\n",
    "    f.close()   \n",
    "    return fastadict\n"
   ]
  },
  {
   "cell_type": "code",
   "execution_count": 89,
   "metadata": {},
   "outputs": [
    {
     "data": {
      "text/plain": [
       "{'AA': {'name': 'AA', 'header': '>AA', 'sequence': 'AAAAAAAAAAAAAA'},\n",
       " 'BB': {'name': 'BB', 'header': '>BB', 'sequence': 'BBBBBBBBBBBB'},\n",
       " 'CC': {'name': 'CC', 'header': '>CC', 'sequence': 'CCCCCCCCCCCCCCCCCCCC'}}"
      ]
     },
     "execution_count": 89,
     "metadata": {},
     "output_type": "execute_result"
    }
   ],
   "source": [
    "option1('data/fasta/fastatester.fa')"
   ]
  },
  {
   "cell_type": "markdown",
   "metadata": {},
   "source": [
    "## Option 2\n",
    "\n",
    "Placment of `fastdict` assignment in the if statement (at the end). Note: I added print statements in the `if` and `else` code blocks so I could see how fastadict matures. One thing you can see is that even when we aren't updating `fastadict`, the value of `seqdict` is being updated in the `else` statement and this is being transferred to the `fastadict`. \n",
    "\n",
    "So, if you assign add a subdictionary to a dictionary by assigning it to its own value -- it will automatically update the value of the subdictionary within the dictionary regardless. \n"
   ]
  },
  {
   "cell_type": "code",
   "execution_count": 90,
   "metadata": {},
   "outputs": [],
   "source": [
    "def option2(filename):\n",
    "    fastadict = {}\n",
    "    with open(filename, 'r') as f:\n",
    "        for line in f:\n",
    "            if line.startswith('>'):\n",
    "                seqdict={}\n",
    "                header=line.strip()\n",
    "                name = header.split(' ')[0].replace('>', '')\n",
    "                seqdict['name'] = name\n",
    "                seqdict['header'] = header\n",
    "                sequence=''\n",
    "                fastadict[name]=seqdict\n",
    "                print('IF:', name, fastadict)\n",
    "            else:\n",
    "                sequence += line.strip()\n",
    "                seqdict['sequence'] = sequence\n",
    "                print('ELSE:', name, fastadict)\n",
    "    f.close()   \n",
    "    return fastadict"
   ]
  },
  {
   "cell_type": "code",
   "execution_count": 91,
   "metadata": {},
   "outputs": [
    {
     "name": "stdout",
     "output_type": "stream",
     "text": [
      "IF: AA {'AA': {'name': 'AA', 'header': '>AA'}}\n",
      "ELSE: AA {'AA': {'name': 'AA', 'header': '>AA', 'sequence': 'AAAAAAA'}}\n",
      "ELSE: AA {'AA': {'name': 'AA', 'header': '>AA', 'sequence': 'AAAAAAAAAAAAAA'}}\n",
      "IF: BB {'AA': {'name': 'AA', 'header': '>AA', 'sequence': 'AAAAAAAAAAAAAA'}, 'BB': {'name': 'BB', 'header': '>BB'}}\n",
      "ELSE: BB {'AA': {'name': 'AA', 'header': '>AA', 'sequence': 'AAAAAAAAAAAAAA'}, 'BB': {'name': 'BB', 'header': '>BB', 'sequence': 'BBBBBB'}}\n",
      "ELSE: BB {'AA': {'name': 'AA', 'header': '>AA', 'sequence': 'AAAAAAAAAAAAAA'}, 'BB': {'name': 'BB', 'header': '>BB', 'sequence': 'BBBBBBBBBBBB'}}\n",
      "IF: CC {'AA': {'name': 'AA', 'header': '>AA', 'sequence': 'AAAAAAAAAAAAAA'}, 'BB': {'name': 'BB', 'header': '>BB', 'sequence': 'BBBBBBBBBBBB'}, 'CC': {'name': 'CC', 'header': '>CC'}}\n",
      "ELSE: CC {'AA': {'name': 'AA', 'header': '>AA', 'sequence': 'AAAAAAAAAAAAAA'}, 'BB': {'name': 'BB', 'header': '>BB', 'sequence': 'BBBBBBBBBBBB'}, 'CC': {'name': 'CC', 'header': '>CC', 'sequence': 'CCCCC'}}\n",
      "ELSE: CC {'AA': {'name': 'AA', 'header': '>AA', 'sequence': 'AAAAAAAAAAAAAA'}, 'BB': {'name': 'BB', 'header': '>BB', 'sequence': 'BBBBBBBBBBBB'}, 'CC': {'name': 'CC', 'header': '>CC', 'sequence': 'CCCCCCCCCC'}}\n",
      "ELSE: CC {'AA': {'name': 'AA', 'header': '>AA', 'sequence': 'AAAAAAAAAAAAAA'}, 'BB': {'name': 'BB', 'header': '>BB', 'sequence': 'BBBBBBBBBBBB'}, 'CC': {'name': 'CC', 'header': '>CC', 'sequence': 'CCCCCCCCCCCCCCC'}}\n",
      "ELSE: CC {'AA': {'name': 'AA', 'header': '>AA', 'sequence': 'AAAAAAAAAAAAAA'}, 'BB': {'name': 'BB', 'header': '>BB', 'sequence': 'BBBBBBBBBBBB'}, 'CC': {'name': 'CC', 'header': '>CC', 'sequence': 'CCCCCCCCCCCCCCCCCCCC'}}\n"
     ]
    },
    {
     "data": {
      "text/plain": [
       "{'AA': {'name': 'AA', 'header': '>AA', 'sequence': 'AAAAAAAAAAAAAA'},\n",
       " 'BB': {'name': 'BB', 'header': '>BB', 'sequence': 'BBBBBBBBBBBB'},\n",
       " 'CC': {'name': 'CC', 'header': '>CC', 'sequence': 'CCCCCCCCCCCCCCCCCCCC'}}"
      ]
     },
     "execution_count": 91,
     "metadata": {},
     "output_type": "execute_result"
    }
   ],
   "source": [
    "option2('data/fasta/fastatester.fa')"
   ]
  },
  {
   "cell_type": "code",
   "execution_count": null,
   "metadata": {},
   "outputs": [],
   "source": []
  }
 ],
 "metadata": {
  "kernelspec": {
   "display_name": "Python [conda env:.conda-python_lab] *",
   "language": "python",
   "name": "conda-env-.conda-python_lab-py"
  },
  "language_info": {
   "codemirror_mode": {
    "name": "ipython",
    "version": 3
   },
   "file_extension": ".py",
   "mimetype": "text/x-python",
   "name": "python",
   "nbconvert_exporter": "python",
   "pygments_lexer": "ipython3",
   "version": "3.7.3"
  }
 },
 "nbformat": 4,
 "nbformat_minor": 2
}
